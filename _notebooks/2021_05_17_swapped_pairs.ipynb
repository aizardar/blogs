{
  "nbformat": 4,
  "nbformat_minor": 0,
  "metadata": {
    "colab": {
      "name": "2021-05-17-swapped_pairs.ipynb",
      "provenance": [],
      "collapsed_sections": []
    },
    "kernelspec": {
      "name": "python3",
      "display_name": "Python 3"
    },
    "language_info": {
      "name": "python"
    }
  },
  "cells": [
    {
      "cell_type": "markdown",
      "metadata": {
        "id": "a9fiFmJuG01S"
      },
      "source": [
        "# \"Swapped pair identification\"\n",
        "> \"Identifying swapped pairs and more...\"\n",
        "- toc: false\n",
        "- branch: master\n",
        "- badges: true\n",
        "- comments: true\n",
        "- categories: [Python, statistics]\n",
        "- image: images/\n",
        "- hide: false\n",
        "- search_exclude: true\n",
        "- metadata_key1: metadata_value1\n",
        "- metadata_key2: metadata_value2\n",
        "- use_math: true"
      ]
    },
    {
      "cell_type": "markdown",
      "metadata": {
        "id": "pF7nM8CJLMWm"
      },
      "source": [
        "This notebook is inspired from one of the projects I was pursuing during the final year of my PhD. I was dealing with several (of the order of hundred thousands) pair of numbers. My main goal was to identify swapped pairs and assign the swapped pair, the value of J corresponding to the original pair. For example, in the table below, (1,9) after swapping is (9,1) and therefore, (9,1) is the swapped pair. Then this swapped pair is assigned the value of J corresponding to the original pair (1,9) which is 3.45. \n",
        "\n",
        "\\begin{array}{|c|c|c|}\\hline\n",
        "Atom_1&Atom_2&J\\\\\\hline\n",
        "1&9&3.45\\\\\\hline\n",
        "2&8&1.67\\\\\\hline\n",
        "3&7&8.97\\\\\\hline\n",
        "4&6&2.12\\\\\\hline\n",
        "5&5&9.12\\\\\\hline\n",
        "6&4&-\\\\\\hline\n",
        "7&3&-\\\\\\hline\n",
        "8&2&-\\\\\\hline\n",
        "9&1&-\\\\\\hline\n",
        "\\end{array}\n",
        "\n",
        "\n",
        "Here's how I accomplished this: \n",
        "\n",
        "\n",
        "1. Create a separate list for original and swapped numbers \n",
        "2. Create an empty list to store repeated J values\n",
        "3. Then loop over the swapped pair list\n",
        "    * For each pair, reverse it and check if it is present in the original pair list\n",
        "    * Get the corresponding index and use that index to locate value of J\n",
        "    * Append the value of J to the empty list created earlier\n",
        "4. Add both lists containing unique J values and repeated J values\n",
        "5. All done! \n",
        "\n",
        "\n",
        "\n",
        "\n",
        "\n",
        "\n"
      ]
    },
    {
      "cell_type": "code",
      "metadata": {
        "id": "Yw-rzP4zOSIH"
      },
      "source": [
        "# Load some useful libraries\n",
        "\n",
        "import numpy as np\n",
        "import matplotlib.pyplot as plt\n",
        "import pandas as pd"
      ],
      "execution_count": 1,
      "outputs": []
    },
    {
      "cell_type": "markdown",
      "metadata": {
        "id": "-CAaWfCNOeC9"
      },
      "source": [
        "Let's first generate some pairs similar to the table above"
      ]
    },
    {
      "cell_type": "code",
      "metadata": {
        "id": "yzjQN5Tv75ny",
        "colab": {
          "base_uri": "https://localhost:8080/",
          "height": 0
        },
        "outputId": "6928ef16-64a7-4a32-eeab-2c7d43a4e369"
      },
      "source": [
        "# Note that we use list comprehension here as it is more efficient than using a for loop!\n",
        "pairs = [(i,j) for i,j in zip(range(1,10,1), range(9,0,-1))]\n",
        "print(\"Generated pairs are = \", pairs)"
      ],
      "execution_count": 2,
      "outputs": [
        {
          "output_type": "stream",
          "text": [
            "Generated pairs are =  [(1, 9), (2, 8), (3, 7), (4, 6), (5, 5), (6, 4), (7, 3), (8, 2), (9, 1)]\n"
          ],
          "name": "stdout"
        }
      ]
    },
    {
      "cell_type": "markdown",
      "metadata": {
        "id": "OiguKNA6Ory9"
      },
      "source": [
        "Let's now separate orignal and swapped pairs"
      ]
    },
    {
      "cell_type": "code",
      "metadata": {
        "id": "QOiuKx1UZcgk",
        "colab": {
          "base_uri": "https://localhost:8080/",
          "height": 0
        },
        "outputId": "d7af53be-4dff-4a0c-9a51-8b023395ed2b"
      },
      "source": [
        "original_pairs = []  # Create an empty list for original pairs\n",
        "swapped_pairs = []   # Create an empty list for swapped pairs\n",
        "\n",
        "for pair in pairs:\n",
        "  if pair[::-1] not in original_pairs:\n",
        "    original_pairs.append(pair)\n",
        "  else:\n",
        "    swapped_pairs.append(pair)\n",
        "  \n",
        "print(\"Original pairs are = \", original_pairs)\n",
        "\n",
        "print(\"Swapped pairs are = \", swapped_pairs)"
      ],
      "execution_count": 3,
      "outputs": [
        {
          "output_type": "stream",
          "text": [
            "Original pairs are =  [(1, 9), (2, 8), (3, 7), (4, 6), (5, 5)]\n",
            "Swapped pairs are =  [(6, 4), (7, 3), (8, 2), (9, 1)]\n"
          ],
          "name": "stdout"
        }
      ]
    },
    {
      "cell_type": "markdown",
      "metadata": {
        "id": "q6_GRIG9hlI5"
      },
      "source": [
        "Numbers for column J corresponding to original pair "
      ]
    },
    {
      "cell_type": "code",
      "metadata": {
        "id": "YRJpyvGryGPX"
      },
      "source": [
        "unique_J= [3.45, 1.67, 8.97, 2.12, 9.12]"
      ],
      "execution_count": 4,
      "outputs": []
    },
    {
      "cell_type": "code",
      "metadata": {
        "id": "SuH4Cgs4fsBa",
        "colab": {
          "base_uri": "https://localhost:8080/",
          "height": 0
        },
        "outputId": "36fd71ff-7786-4959-abca-78ffbf8c2e6a"
      },
      "source": [
        "\n",
        "repeated_J = []\n",
        "for swapped_pair in swapped_pairs:\n",
        "  if swapped_pair[::-1] in original_pairs:\n",
        "    # get corresponding coupling index and append to repeated_J list\n",
        "    coupling_index = original_pairs.index(swapped_pair[::-1])\n",
        "    repeated_J.append(unique_J[coupling_index])\n",
        "print(\"Repeated J's are: \", repeated_J)"
      ],
      "execution_count": 5,
      "outputs": [
        {
          "output_type": "stream",
          "text": [
            "Repeated J's are:  [2.12, 8.97, 1.67, 3.45]\n"
          ],
          "name": "stdout"
        }
      ]
    },
    {
      "cell_type": "markdown",
      "metadata": {
        "id": "GdfH-_gSOTtH"
      },
      "source": [
        "Let's now combine repeated J's with unique J's"
      ]
    },
    {
      "cell_type": "code",
      "metadata": {
        "id": "tO2T69uH5obf"
      },
      "source": [
        "J = unique_J + repeated_J "
      ],
      "execution_count": 6,
      "outputs": []
    },
    {
      "cell_type": "code",
      "metadata": {
        "id": "GZ1oi98t3_XN",
        "colab": {
          "base_uri": "https://localhost:8080/",
          "height": 0
        },
        "outputId": "ba319f3b-6315-4bbe-b070-90486a9d32f7"
      },
      "source": [
        "print(\"Pair\", \"\\t\", \"J\")\n",
        "for i, j in zip(pairs, J):\n",
        "  print(i,\"\\t\", j)\n"
      ],
      "execution_count": 7,
      "outputs": [
        {
          "output_type": "stream",
          "text": [
            "Pair \t J\n",
            "(1, 9) \t 3.45\n",
            "(2, 8) \t 1.67\n",
            "(3, 7) \t 8.97\n",
            "(4, 6) \t 2.12\n",
            "(5, 5) \t 9.12\n",
            "(6, 4) \t 2.12\n",
            "(7, 3) \t 8.97\n",
            "(8, 2) \t 1.67\n",
            "(9, 1) \t 3.45\n"
          ],
          "name": "stdout"
        }
      ]
    },
    {
      "cell_type": "markdown",
      "metadata": {
        "id": "kQnX1iEZQjzG"
      },
      "source": [
        "One can see now that the value of J for the original and the swapped pair is identical. \n",
        "\n",
        "Please note that the number of pairs I had in my original task was around 100,000 which lead to a slower performance of the code above. Please let me know if you know a more efficient way to do this.  \n",
        "\n",
        "Thanks for reading!  "
      ]
    }
  ]
}