{
  "nbformat": 4,
  "nbformat_minor": 0,
  "metadata": {
    "colab": {
      "name": "Pi_Monte_Carlo.ipynb",
      "provenance": [],
      "collapsed_sections": []
    },
    "kernelspec": {
      "name": "python3",
      "display_name": "Python 3"
    }
  },
  "cells": [
    {
      "cell_type": "markdown",
      "metadata": {
        "id": "dIBKwarEu3kf"
      },
      "source": [
        "# \"Estimating $\\pi$\"\n",
        "> \"Implementation of Monte Carlo simulation to estimate the value of $\\pi$\"\n",
        "- toc: false\n",
        "- branch: master\n",
        "- badges: true\n",
        "- comments: true\n",
        "- categories: [Monte Carlo, Python]\n",
        "- image: images/\n",
        "- hide: false\n",
        "- search_exclude: true\n",
        "- metadata_key1: metadata_value1\n",
        "- metadata_key2: metadata_value2\n",
        "- use_math: true"
      ]
    },
    {
      "cell_type": "markdown",
      "metadata": {
        "id": "Ytri5iRJvVPc"
      },
      "source": [
        "In this notebook, we will estimate the value of $\\pi$ using Monte Carlo simulation.\n",
        "\n",
        "*Monte Carlo simulation is a technique used to approximate the probability of an event by running the same simulation mutiple times and averaging the results* [1]. \n",
        "\n",
        "For many years, people have known that there exists a constant called $\\pi$ and were also aware of the fact that the circumference and the area of the circle with radius r, is 2.$\\pi$.r and $\\pi$.$r^2$, respectively. But what about the value of $\\pi$? \n",
        "\n",
        "Two french mathematicians, Buffon and Laplace proposed to estimate the value of $\\pi$ using stochastic simulation. They took a circle and inscribe it in a square with sides of length 2 units, so that the radius, r, of the circle is of length 1 (see figure below).\n",
        "\n",
        "<div>\n",
        "<img src=\"https://raw.github.com/aizardar/blogs/master/images/circle.png\" width=\"150\"/>\n",
        "</div>\n",
        "Figure taken from [1].\n",
        "\n",
        "\n",
        "The area of circle is $\\pi$.$r^2$ and since $r = 1$, $\\pi = area$. This means that if we can figure out the area of circle, we can estimate the value of $\\pi$.\n",
        "\n",
        "To estimate the area of circle, Baffon suggested to drop a large number of needles in the vicinity of the square. The ratio of the number of needle tips lying within the square to the number of needle tips lying within the circle could then be used to estimate the area of the circle.   \n",
        "\n",
        "Now, if locations of needles are truly random, we can write:\n",
        "\n",
        "\n",
        "\n",
        "$$\\frac{\\text{needles in circle}}{\\text{needles in square}} = \\frac{\\text{area of circle}}{\\text{area of square}}$$\n",
        "\n",
        "We already know the area of square = 4, therefore, we can write:\n",
        "\n",
        "$$\\text{area of circle} = \\frac{\\text{4 * needles in circle}}{\\text{needles in square}}$$\n",
        "\n",
        "The only thing we need now is number of needles in circle and square. Lucky us, we have computers to simulate the dropping of needles. Unfortunately, computers were not a thing at Buffon's time so one has to try dropping a very large number of needles to get an approximation of $\\pi$. \n",
        "\n",
        "Code below estimates the value of $\\pi$ using the Buffon-Laplace method. We will consider only the upper right-hand quadrant of the square. "
      ]
    },
    {
      "cell_type": "code",
      "metadata": {
        "id": "KKehBuCXR4TD"
      },
      "source": [
        "import random\n",
        "import numpy as np\n",
        "import matplotlib.pyplot as plt\n",
        "\n",
        "\n",
        "def getpi(numNeedles, numTrials):\n",
        "  \"\"\" Calculates the value of pi for number of trails(numTrials) and number of needles(numNeedles).\n",
        "  \"\"\"  \n",
        "\n",
        "  estimates = []\n",
        "  for trial in range(numTrials):\n",
        "    inCircle = 0  # To count the number of needles that lie within the circle\n",
        "\n",
        "    for needles in range(1, numNeedles + 1):\n",
        "      x = random.random()\n",
        "      y = random.random()\n",
        "\n",
        "      # Needle will lie within the circle if and only if the distance from the origin is no greater than radius which is 1. \n",
        "      if(x*x + y*y)**0.5 <= 1:\n",
        "        inCircle +=1\n",
        "    pi = 4*(inCircle/numNeedles)\n",
        "    estimates.append(pi)\n",
        "  stDev = np.std(estimates)\n",
        "  curEst = sum(estimates)/len(estimates)\n",
        "  print(\"Est. =\", str(round(curEst, 5)), \"Std. Dev =\", str(round(stDev,5)), \"Needles =\", numNeedles)\n",
        "  \n"
      ],
      "execution_count": null,
      "outputs": []
    },
    {
      "cell_type": "code",
      "metadata": {
        "id": "OnXXIjXtOl1h",
        "colab": {
          "base_uri": "https://localhost:8080/"
        },
        "outputId": "f5dc4dfc-9ac8-475c-ed8f-15b1a94b2b40"
      },
      "source": [
        "# We increase the number of sample size i.e. number of needles after every 100 trials\n",
        "Numneedles = [1000, 2000, 4000, 8000, 16000, 32000, 64000, 128000]\n",
        "for i in Numneedles:\n",
        "  getpi(i, 100)"
      ],
      "execution_count": null,
      "outputs": [
        {
          "output_type": "stream",
          "text": [
            "Est. = 3.13772 Std. Dev = 0.05009 Needles = 1000\n",
            "Est. = 3.13982 Std. Dev = 0.03471 Needles = 2000\n",
            "Est. = 3.13957 Std. Dev = 0.02197 Needles = 4000\n",
            "Est. = 3.14284 Std. Dev = 0.01911 Needles = 8000\n",
            "Est. = 3.14191 Std. Dev = 0.01292 Needles = 16000\n",
            "Est. = 3.1433 Std. Dev = 0.00909 Needles = 32000\n",
            "Est. = 3.14093 Std. Dev = 0.0054 Needles = 64000\n",
            "Est. = 3.14158 Std. Dev = 0.00512 Needles = 128000\n"
          ],
          "name": "stdout"
        }
      ]
    },
    {
      "cell_type": "markdown",
      "metadata": {
        "id": "fWAp9XKI_dI7"
      },
      "source": [
        "One can see that the standard deviation decreases monotonically with the increase in the sample size i.e. number of needles. We also notice that the value of pi also improved steadily with increasing number of needles.\n",
        "\n",
        "A more sophisticated version of this code can be found in [1] on Pg. 287. \n",
        "\n",
        "Let me know if you have any comments or suggestions. Thanks for reading !\n",
        "\n",
        "References:\n",
        "\n",
        "[1] Introduction to Computation and Programming Using Python (with Application to Understanding Python), second edition, J.V. Guttag, MIT Press, 2016 "
      ]
    }
  ]
}