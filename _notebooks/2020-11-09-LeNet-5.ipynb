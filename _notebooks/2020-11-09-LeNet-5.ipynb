{
  "nbformat": 4,
  "nbformat_minor": 0,
  "metadata": {
    "kernelspec": {
      "display_name": "Python 3",
      "language": "python",
      "name": "python3"
    },
    "language_info": {
      "codemirror_mode": {
        "name": "ipython",
        "version": 3
      },
      "file_extension": ".py",
      "mimetype": "text/x-python",
      "name": "python",
      "nbconvert_exporter": "python",
      "pygments_lexer": "ipython3",
      "version": "3.7.4"
    },
    "colab": {
      "name": "LeNet_5",
      "provenance": [],
      "collapsed_sections": []
    },
    "accelerator": "GPU"
  },
  "cells": [
    {
      "cell_type": "markdown",
      "metadata": {
        "id": "chuiA43dQfiH"
      },
      "source": [
        "# \"LeNet-5 CNN\"\n",
        "> \"Implementation of LeNet-5 CNN with PyTorch\"\n",
        "- toc: false\n",
        "- branch: master\n",
        "- badges: true\n",
        "- comments: true\n",
        "- categories: [PyTorch, CNN, Computer Vision]\n",
        "- image: images/\n",
        "- hide: false\n",
        "- search_exclude: true\n",
        "- metadata_key1: metadata_value1\n",
        "- metadata_key2: metadata_value2\n",
        "- use_math: true"
      ]
    },
    {
      "cell_type": "markdown",
      "metadata": {
        "id": "uYTj9jqj8g4P"
      },
      "source": [
        "<div>\n",
        "<img src=\"https://discuss.pytorch.org/uploads/default/original/2X/3/35226d9fbc661ced1c5d17e374638389178c3176.png\" width=\"400\" style=\"margin: 30px auto; display: block; position: relative; left: -30px;\" />\n",
        "</div>"
      ]
    },
    {
      "cell_type": "markdown",
      "metadata": {
        "id": "6GMSoNzwlemn"
      },
      "source": [
        "### In this notebook, we will implement the LeNet-5 convolutional neural network architecture with the help of PyTorch. This notebook has been adapted from one of the [tutorials](https://github.com/theevann/amld-pytorch-workshop) presented during a workshop at the Applied Machine Learning Days 2020.\n",
        "\n",
        "## The LeNet-5 architecture\n",
        "\n",
        "The LeNet-5 CNN architecture was introduced by Yann LeCun, Leon Bottou, Yosuha Bengio and Patrick Haffner back in 1990's to recognise the handwritten and machine printed characters. Since then, due to its simplicity, it has been used as a first step in teaching Convolutional Neural Networks. "
      ]
    },
    {
      "cell_type": "markdown",
      "metadata": {
        "id": "PnoqBTAW8g4R"
      },
      "source": [
        "![](https://pytorch.org/tutorials/_images/mnist.png)"
      ]
    },
    {
      "cell_type": "markdown",
      "metadata": {
        "id": "rGDWToE7lkDH"
      },
      "source": [
        "*Y. LeCun, L. Bottou, Y. Bengio, and P. Haffner. \"Gradient-based learning applied to document recognition.\" Proceedings of the IEEE, 86(11):2278-2324, November 1998.*"
      ]
    },
    {
      "cell_type": "markdown",
      "metadata": {
        "id": "CkUF0aKss8ma"
      },
      "source": [
        "### **Details of the architecture**\n",
        "\n",
        "Note : In the following, convolutional layers are labeled as Cx, subsampling layers are labeled as Sx, and fully connected\n",
        "layers are labeled as Fx, where x is the layer index.\n",
        "\n",
        "+ Convolutional part:\n",
        "\n",
        "\n",
        "| Layer       | Name | Input channels | Output channels (number of kernels) | Kernel size | stride |\n",
        "| ----------- | :--: | :------------: | :-------------: | :----: | :----: |\n",
        "| Convolution |  C1  |       1        |        6        |  5x5   |   1    |\n",
        "| tanh        |      |       6        |        6        |        |        |\n",
        "| AvgPooling  |  S2  |       6        |        6        |  2x2   |   2    |\n",
        "| Convolution |  C3  |       6        |       16        |  5x5   |   1    |\n",
        "| tanh        |      |       16       |       16        |        |        |\n",
        "| AvgPooling  |  S4  |       16       |       16        |  2x2   |   2    |\n",
        "| Convolution |  C5  |       6        |       120       |  5x5   |   1    |\n",
        "| tanh        |      |      120       |       120       |        |        |\n",
        "\n",
        "\n",
        "+ Fully Connected part:\n",
        "\n",
        "| Layer      | Name | Input size | Output size |\n",
        "| ---------- | :--: | :--------: | :---------: |\n",
        "| Linear     |  F5  |    120     |     84      |\n",
        "| tanh       |      |            |             |\n",
        "| Linear     |  F6  |     84     |     10      |\n",
        "| LogSoftmax |      |            |             |"
      ]
    },
    {
      "cell_type": "markdown",
      "metadata": {
        "id": "7dLQjDJhxdlw"
      },
      "source": [
        "\n",
        "\n",
        "---\n",
        "\n"
      ]
    },
    {
      "cell_type": "markdown",
      "metadata": {
        "id": "75r-jLKVxLbY"
      },
      "source": [
        "#### Let's first import some useful modules"
      ]
    },
    {
      "cell_type": "code",
      "metadata": {
        "id": "XRuHeFRK0GK_"
      },
      "source": [
        "import torch\n",
        "import torch.nn as nn\n",
        "import torch.nn.functional as F\n",
        "import torch.optim as optim\n",
        "\n",
        "torch.set_printoptions(precision=3)\n",
        "\n",
        "\n",
        "import sys\n",
        "! pip -q install colorama\n",
        "import colorama # for producing colored terminal text and cursor positioning\n",
        "from collections import OrderedDict\n",
        "import matplotlib.pyplot as plt "
      ],
      "execution_count": 1,
      "outputs": []
    },
    {
      "cell_type": "markdown",
      "metadata": {
        "id": "eL7HgnYY0shr"
      },
      "source": [
        "#### Let's create our model architecture "
      ]
    },
    {
      "cell_type": "code",
      "metadata": {
        "id": "i1d2ODdIxK43"
      },
      "source": [
        "class LeNet5(nn.Module):\n",
        "    def __init__(self):\n",
        "        super(LeNet5, self).__init__()\n",
        "        \n",
        "        self.conv_net = nn.Sequential(OrderedDict([               # We use Ordered dictionary object here.  They remember the order that items were inserted. When iterating over an ordered dictionary, the items are returned in the order their keys were first added.\n",
        "            ('C1', nn.Conv2d(1, 6, kernel_size=(5, 5))),\n",
        "            ('Tanh1', nn.Tanh()),\n",
        "            \n",
        "            ('S2', nn.AvgPool2d(kernel_size=(2, 2), stride=2)),\n",
        "            ('C3', nn.Conv2d(6, 16, kernel_size=(5, 5))),\n",
        "            ('Tanh3', nn.Tanh()),\n",
        "            \n",
        "            ('S4', nn.AvgPool2d(kernel_size=(2, 2), stride=2)),\n",
        "            ('C5', nn.Conv2d(16, 120, kernel_size=(5, 5))),\n",
        "            ('Tanh5', nn.Tanh()),\n",
        "        ]))\n",
        "        \n",
        "        self.fully_connected = nn.Sequential(OrderedDict([\n",
        "            ('F6', nn.Linear(120, 84)),\n",
        "            ('Tanh6', nn.Tanh()),\n",
        "            ('F7', nn.Linear(84, 10)),\n",
        "            ('LogSoftmax', nn.LogSoftmax(dim=-1))\n",
        "        ]))\n",
        "\n",
        "\n",
        "    def forward(self, imgs):\n",
        "        output = self.conv_net(imgs)\n",
        "        output = output.view(imgs.shape[0], -1)  # imgs.shape[0] is the batch_size\n",
        "        output = self.fully_connected(output)\n",
        "        return output     "
      ],
      "execution_count": 2,
      "outputs": []
    },
    {
      "cell_type": "markdown",
      "metadata": {
        "id": "2ED1hBQ81T73"
      },
      "source": [
        "Now that we have created our model, let's print the summary to check if everything is correct. "
      ]
    },
    {
      "cell_type": "code",
      "metadata": {
        "id": "alLMy6oJ1fYQ",
        "outputId": "c4692e1a-8375-49e3-aaa9-5f5896bd5a65",
        "colab": {
          "base_uri": "https://localhost:8080/"
        }
      },
      "source": [
        "conv_net = LeNet5()\n",
        "print(conv_net)"
      ],
      "execution_count": 3,
      "outputs": [
        {
          "output_type": "stream",
          "text": [
            "LeNet5(\n",
            "  (conv_net): Sequential(\n",
            "    (C1): Conv2d(1, 6, kernel_size=(5, 5), stride=(1, 1))\n",
            "    (Tanh1): Tanh()\n",
            "    (S2): AvgPool2d(kernel_size=(2, 2), stride=2, padding=0)\n",
            "    (C3): Conv2d(6, 16, kernel_size=(5, 5), stride=(1, 1))\n",
            "    (Tanh3): Tanh()\n",
            "    (S4): AvgPool2d(kernel_size=(2, 2), stride=2, padding=0)\n",
            "    (C5): Conv2d(16, 120, kernel_size=(5, 5), stride=(1, 1))\n",
            "    (Tanh5): Tanh()\n",
            "  )\n",
            "  (fully_connected): Sequential(\n",
            "    (F6): Linear(in_features=120, out_features=84, bias=True)\n",
            "    (Tanh6): Tanh()\n",
            "    (F7): Linear(in_features=84, out_features=10, bias=True)\n",
            "    (LogSoftmax): LogSoftmax(dim=-1)\n",
            "  )\n",
            ")\n"
          ],
          "name": "stdout"
        }
      ]
    },
    {
      "cell_type": "markdown",
      "metadata": {
        "id": "MsjdkWvl2DfS"
      },
      "source": [
        "Our architecture looks perfect !"
      ]
    },
    {
      "cell_type": "markdown",
      "metadata": {
        "id": "sVFad9P42K2d"
      },
      "source": [
        "# Training our CNN"
      ]
    },
    {
      "cell_type": "markdown",
      "metadata": {
        "id": "XmhcmdPV2bcF"
      },
      "source": [
        "### Train function\n",
        "\n",
        "Let's define `train_cnn` function "
      ]
    },
    {
      "cell_type": "code",
      "metadata": {
        "id": "3lyKU70Q2ajF"
      },
      "source": [
        "def train_cnn(model, train_loader, test_loader, device, num_epochs=3, lr=0.1):\n",
        "\n",
        "  \"\"\" Trains the LeNet-5 CNN \"\"\"\n",
        "\n",
        "  # We define an optimizer and a loss function\n",
        "  optimizer = torch.optim.Adam(model.parameters(), lr=lr)\n",
        "  criterion = torch.nn.CrossEntropyLoss()\n",
        "\n",
        "  for epoch in range(num_epochs):\n",
        "      print(\"=\" * 30, \"Starting epoch %d\" % (epoch + 1), \"=\" * 30)\n",
        "      \n",
        "      model.train()  # Not necessary in our example, but still good practice.\n",
        "                      # Only models with nn.Dropout and nn.BatchNorm modules require it\n",
        "              \n",
        "      # dataloader returns batches of images for 'data' and a tensor with their respective labels in 'labels'\n",
        "      for batch_idx, (data, labels) in enumerate(train_loader):\n",
        "          data, labels = data.to(device), labels.to(device)\n",
        "\n",
        "          optimizer.zero_grad()\n",
        "          output = model(data)\n",
        "          loss = criterion(output, labels)\n",
        "          loss.backward()\n",
        "          optimizer.step()\n",
        "          \n",
        "          if batch_idx % 40 == 0:\n",
        "              print(\"Batch %d/%d, Loss=%.4f\" % (batch_idx, len(train_loader), loss.item()))\n",
        "      \n",
        "      # Compute the train and test accuracy at the end of each epoch\n",
        "      train_acc = accuracy(model, train_loader, device)\n",
        "      test_acc = accuracy(model, test_loader, device)\n",
        "      \n",
        "      print(colorama.Fore.GREEN, \"\\nAccuracy on training: %.2f%%\" % (100*train_acc))\n",
        "      print(\"Accuracy on test: %.2f%%\" % (100*test_acc), colorama.Fore.RESET)"
      ],
      "execution_count": 4,
      "outputs": []
    },
    {
      "cell_type": "markdown",
      "metadata": {
        "id": "Y4XINLt72-FO"
      },
      "source": [
        "### Test function\n",
        "\n",
        "We also need to define an `accuracy` function which can evaluate the model's performance on the train/test set."
      ]
    },
    {
      "cell_type": "code",
      "metadata": {
        "id": "_clvC4Wm13uD"
      },
      "source": [
        "def accuracy(model, dataloader, device):\n",
        "    \"\"\" Computes the model's accuracy on the data provided by 'dataloader'\n",
        "    \"\"\"\n",
        "    model.eval()\n",
        "    \n",
        "    num_correct = 0\n",
        "    num_samples = 0\n",
        "    with torch.no_grad():  # deactivates autograd, reduces memory usage and speeds up computations\n",
        "        for data, labels in dataloader:\n",
        "            data, labels = data.to(device), labels.to(device)\n",
        "\n",
        "            predictions = model(data).max(1)[1]  # indices of the maxima along the second dimension\n",
        "            num_correct += (predictions == labels).sum().item()\n",
        "            num_samples += predictions.shape[0]\n",
        "        \n",
        "    return num_correct / num_samples"
      ],
      "execution_count": 5,
      "outputs": []
    },
    {
      "cell_type": "markdown",
      "metadata": {
        "id": "YccSJLWq77PM"
      },
      "source": [
        "### Loading the train and test data with *`dataloaders`*\n"
      ]
    },
    {
      "cell_type": "code",
      "metadata": {
        "id": "jCBmJLmw76oC"
      },
      "source": [
        "from torchvision import datasets, transforms\n",
        "\n",
        "transformations = transforms.Compose([\n",
        "    transforms.Resize((32, 32)),\n",
        "    transforms.ToTensor()\n",
        "])\n",
        "\n",
        "train_data = datasets.MNIST('./data', \n",
        "                            train = True, \n",
        "                            download = True,\n",
        "                            transform = transformations)\n",
        "\n",
        "test_data = datasets.MNIST('./data', \n",
        "                            train = False, \n",
        "                            download = True,\n",
        "                            transform = transformations)\n",
        "\n",
        "train_loader = torch.utils.data.DataLoader(train_data, batch_size=256, shuffle=True)\n",
        "test_loader = torch.utils.data.DataLoader(test_data, batch_size=1024, shuffle=False)"
      ],
      "execution_count": 6,
      "outputs": []
    },
    {
      "cell_type": "markdown",
      "metadata": {
        "id": "jBa9kH8C8l8M"
      },
      "source": [
        "#### Let's visualize some of the training samples"
      ]
    },
    {
      "cell_type": "code",
      "metadata": {
        "id": "ufA2JkeF76qW",
        "outputId": "78bd6c3e-5b7d-4458-c090-da4caa3933dc",
        "colab": {
          "base_uri": "https://localhost:8080/",
          "height": 129
        }
      },
      "source": [
        "plt.figure(figsize=(16,9))\n",
        "data, target = next(iter(train_loader))\n",
        "for i in range(10):\n",
        "    img = data.squeeze(1)[i]\n",
        "    plt.subplot(1, 10, i+1)\n",
        "    plt.imshow(img, cmap=\"gray\", interpolation=\"none\")\n",
        "    plt.xlabel(target[i].item(), fontsize=18)\n",
        "    plt.xticks([])\n",
        "    plt.yticks([])"
      ],
      "execution_count": 7,
      "outputs": [
        {
          "output_type": "display_data",
          "data": {
            "image/png": "[encoded data removed]",
            "text/plain": [
              "<Figure size 1152x648 with 10 Axes>"
            ]
          },
          "metadata": {
            "tags": []
          }
        }
      ]
    },
    {
      "cell_type": "markdown",
      "metadata": {
        "id": "R_W_-m688yBm"
      },
      "source": [
        "### Time to start the training!"
      ]
    },
    {
      "cell_type": "code",
      "metadata": {
        "id": "AXcg7YZx76t2",
        "outputId": "2c0119b3-4782-49ae-cd26-5777759235d9",
        "colab": {
          "base_uri": "https://localhost:8080/"
        }
      },
      "source": [
        "device = torch.device('cuda' if torch.cuda.is_available() else 'cpu') # Check if gpu available\n",
        "conv_net = conv_net.to(device)\n",
        "\n",
        "train_cnn(conv_net, train_loader, test_loader, device, num_epochs=10, lr=2e-3)"
      ],
      "execution_count": 8,
      "outputs": [
        {
          "output_type": "stream",
          "text": [
            "============================== Starting epoch 1 ==============================\n",
            "Batch 0/235, Loss=2.3098\n",
            "Batch 40/235, Loss=0.3813\n",
            "Batch 80/235, Loss=0.3554\n",
            "Batch 120/235, Loss=0.2120\n",
            "Batch 160/235, Loss=0.2067\n",
            "Batch 200/235, Loss=0.1087\n",
            "\u001b[32m \n",
            "Accuracy on training: 96.00%\n",
            "Accuracy on test: 96.18% \u001b[39m\n",
            "============================== Starting epoch 2 ==============================\n",
            "Batch 0/235, Loss=0.0964\n",
            "Batch 40/235, Loss=0.1028\n",
            "Batch 80/235, Loss=0.0841\n",
            "Batch 120/235, Loss=0.1043\n",
            "Batch 160/235, Loss=0.1101\n",
            "Batch 200/235, Loss=0.0642\n",
            "\u001b[32m \n",
            "Accuracy on training: 97.96%\n",
            "Accuracy on test: 97.83% \u001b[39m\n",
            "============================== Starting epoch 3 ==============================\n",
            "Batch 0/235, Loss=0.0439\n",
            "Batch 40/235, Loss=0.0733\n",
            "Batch 80/235, Loss=0.0361\n",
            "Batch 120/235, Loss=0.0412\n",
            "Batch 160/235, Loss=0.0847\n",
            "Batch 200/235, Loss=0.0664\n",
            "\u001b[32m \n",
            "Accuracy on training: 98.23%\n",
            "Accuracy on test: 97.68% \u001b[39m\n",
            "============================== Starting epoch 4 ==============================\n",
            "Batch 0/235, Loss=0.1003\n",
            "Batch 40/235, Loss=0.0676\n",
            "Batch 80/235, Loss=0.0622\n",
            "Batch 120/235, Loss=0.0595\n",
            "Batch 160/235, Loss=0.0448\n",
            "Batch 200/235, Loss=0.0611\n",
            "\u001b[32m \n",
            "Accuracy on training: 98.91%\n",
            "Accuracy on test: 98.25% \u001b[39m\n",
            "============================== Starting epoch 5 ==============================\n",
            "Batch 0/235, Loss=0.0277\n",
            "Batch 40/235, Loss=0.0469\n",
            "Batch 80/235, Loss=0.0581\n",
            "Batch 120/235, Loss=0.0240\n",
            "Batch 160/235, Loss=0.0569\n",
            "Batch 200/235, Loss=0.0348\n",
            "\u001b[32m \n",
            "Accuracy on training: 99.19%\n",
            "Accuracy on test: 98.43% \u001b[39m\n",
            "============================== Starting epoch 6 ==============================\n",
            "Batch 0/235, Loss=0.0137\n",
            "Batch 40/235, Loss=0.0124\n",
            "Batch 80/235, Loss=0.0528\n",
            "Batch 120/235, Loss=0.0378\n",
            "Batch 160/235, Loss=0.0416\n",
            "Batch 200/235, Loss=0.0182\n",
            "\u001b[32m \n",
            "Accuracy on training: 99.25%\n",
            "Accuracy on test: 98.50% \u001b[39m\n",
            "============================== Starting epoch 7 ==============================\n",
            "Batch 0/235, Loss=0.0185\n",
            "Batch 40/235, Loss=0.0161\n",
            "Batch 80/235, Loss=0.0279\n",
            "Batch 120/235, Loss=0.0169\n",
            "Batch 160/235, Loss=0.0562\n",
            "Batch 200/235, Loss=0.0356\n",
            "\u001b[32m \n",
            "Accuracy on training: 99.52%\n",
            "Accuracy on test: 98.67% \u001b[39m\n",
            "============================== Starting epoch 8 ==============================\n",
            "Batch 0/235, Loss=0.0233\n",
            "Batch 40/235, Loss=0.0127\n",
            "Batch 80/235, Loss=0.0252\n",
            "Batch 120/235, Loss=0.0467\n",
            "Batch 160/235, Loss=0.0181\n",
            "Batch 200/235, Loss=0.0111\n",
            "\u001b[32m \n",
            "Accuracy on training: 99.48%\n",
            "Accuracy on test: 98.70% \u001b[39m\n",
            "============================== Starting epoch 9 ==============================\n",
            "Batch 0/235, Loss=0.0288\n",
            "Batch 40/235, Loss=0.0141\n",
            "Batch 80/235, Loss=0.0244\n",
            "Batch 120/235, Loss=0.0164\n",
            "Batch 160/235, Loss=0.0143\n",
            "Batch 200/235, Loss=0.0128\n",
            "\u001b[32m \n",
            "Accuracy on training: 99.47%\n",
            "Accuracy on test: 98.47% \u001b[39m\n",
            "============================== Starting epoch 10 ==============================\n",
            "Batch 0/235, Loss=0.0203\n",
            "Batch 40/235, Loss=0.0171\n",
            "Batch 80/235, Loss=0.0251\n",
            "Batch 120/235, Loss=0.0082\n",
            "Batch 160/235, Loss=0.0072\n",
            "Batch 200/235, Loss=0.0120\n",
            "\u001b[32m \n",
            "Accuracy on training: 99.56%\n",
            "Accuracy on test: 98.58% \u001b[39m\n"
          ],
          "name": "stdout"
        }
      ]
    },
    {
      "cell_type": "markdown",
      "metadata": {
        "id": "XqkWsqrr-e7M"
      },
      "source": [
        "Accuracy of 98.58% on the test set, excellent ! \n",
        "If one notice carefully, our model already achieved an accuracy of 98.70% after the end of 8th epoch. In further two epochs, we are overfitting our model and that's why the accuracy on the test set drops. This can be avoided by keeping track of the loss values. "
      ]
    },
    {
      "cell_type": "markdown",
      "metadata": {
        "id": "FHbyf9Jn_P5G"
      },
      "source": [
        "### Let's look at some of the model's predictions"
      ]
    },
    {
      "cell_type": "code",
      "metadata": {
        "id": "x_iWBZDT76wJ",
        "outputId": "f3bdd19a-fa49-49c6-e352-83f92f72d74a",
        "colab": {
          "base_uri": "https://localhost:8080/",
          "height": 129
        }
      },
      "source": [
        "def visualize_predictions(model, dataloader, device):\n",
        "    data, labels = next(iter(dataloader))\n",
        "    data, labels = data[:10].to(device), labels[:10]\n",
        "    predictions = model(data).max(1)[1]\n",
        "    \n",
        "    predictions, data = predictions.cpu(), data.cpu()\n",
        "    \n",
        "    plt.figure(figsize=(16,9))\n",
        "    for i in range(10):\n",
        "        img = data.squeeze(1)[i]\n",
        "        plt.subplot(1, 10, i+1)\n",
        "        plt.imshow(img, cmap=\"gray\", interpolation=\"none\")\n",
        "        plt.xlabel(predictions[i].item(), fontsize=18)\n",
        "        plt.xticks([])\n",
        "        plt.yticks([])    \n",
        "    \n",
        "visualize_predictions(conv_net, test_loader, device)"
      ],
      "execution_count": 12,
      "outputs": [
        {
          "output_type": "display_data",
          "data": {
            "image/png": "[encoded data removed]",
            "text/plain": [
              "<Figure size 1152x648 with 10 Axes>"
            ]
          },
          "metadata": {
            "tags": []
          }
        }
      ]
    },
    {
      "cell_type": "markdown",
      "metadata": {
        "id": "2a8bb9bBjruu"
      },
      "source": [
        "Let me know if you have any feedback or comments !"
      ]
    }
  ]
}