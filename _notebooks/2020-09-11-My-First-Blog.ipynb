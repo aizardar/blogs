{
  "nbformat": 4,
  "nbformat_minor": 0,
  "metadata": {
    "colab": {
      "name": "2020-09-11-Myfirstblog.ipynb",
      "provenance": [],
      "collapsed_sections": [],
      "authorship_tag": "ABX9TyN6vzI/w+8R8wTwOshDJnPO"
    },
    "kernelspec": {
      "name": "python3",
      "display_name": "Python 3"
    }
  },
  "cells": [
    {
      "cell_type": "markdown",
      "metadata": {
        "id": "Vpu-h1OyWiGV",
        "colab_type": "text"
      },
      "source": [
        "# \"My first blog !\"\n",
        "> \"Setting up the blogging website\"\n",
        "\n",
        "- toc: false\n",
        "- branch: master\n",
        "- badges: true\n",
        "- comments: true\n",
        "- categories: [fastpages, jupyter]\n",
        "- image: images/some_folder/your_image.png\n",
        "- hide: false\n",
        "- search_exclude: true\n",
        "- metadata_key1: metadata_value1\n",
        "- metadata_key2: metadata_value2"
      ]
    },
    {
      "cell_type": "markdown",
      "metadata": {
        "id": "ynTzlR4WJDAn",
        "colab_type": "text"
      },
      "source": [
        "### Hey there, welcome to my first blog ! If you also want to make your own blogging website, try [fastpages](https://github.com/fastai/fastpages). Just follow the instructions on their webpage and your blogging platform will be setup in no time. With fastpages, you don't have to convert the scripts as it automates the process of creating the blog posts via [GitHub Actions](https://github.com/features/actions). Also, one can use jupyter notebooks to write blogs. Isn't that awesome ! \n",
        "\n"
      ]
    }
  ]
}