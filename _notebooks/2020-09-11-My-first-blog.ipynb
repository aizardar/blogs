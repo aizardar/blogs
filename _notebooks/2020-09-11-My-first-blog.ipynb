{
  "nbformat": 4,
  "nbformat_minor": 0,
  "metadata": {
    "colab": {
      "name": "2020-09-11-My-first-blog.ipynb",
      "provenance": [],
      "collapsed_sections": []
    },
    "kernelspec": {
      "name": "python3",
      "display_name": "Python 3"
    }
  },
  "cells": [
    {
      "cell_type": "markdown",
      "metadata": {
        "id": "mE7EmaxyIsRv",
        "colab_type": "text"
      },
      "source": [
        "# **My first blog !**"
      ]
    },
    {
      "cell_type": "markdown",
      "metadata": {
        "id": "ynTzlR4WJDAn",
        "colab_type": "text"
      },
      "source": [
        "## Hey there, welcome to my first blog! If you also want to make your own blogging website, try [fastpages](https://github.com/fastai/fastpages). Just follow the instructions on their webpage and your blogging platform will be setup in no time. With fastpages, you don't have to convert the scripts as it automates the process of creating the blog posts via [GitHub Actions](https://github.com/features/actions). Also, one can use jupyter notebooks to write blogs. Isn't that awesome ! \n",
        "\n"
      ]
    }
  ]
}
